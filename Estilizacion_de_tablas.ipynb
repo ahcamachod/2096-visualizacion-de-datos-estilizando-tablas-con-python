{
  "nbformat": 4,
  "nbformat_minor": 0,
  "metadata": {
    "colab": {
      "provenance": [],
      "collapsed_sections": [
        "cJc43_SLO8T2",
        "UITGxJXGQRtT",
        "XtlH8tHOdUOv"
      ],
      "include_colab_link": true
    },
    "kernelspec": {
      "name": "python3",
      "display_name": "Python 3"
    },
    "language_info": {
      "name": "python"
    }
  },
  "cells": [
    {
      "cell_type": "markdown",
      "metadata": {
        "id": "view-in-github",
        "colab_type": "text"
      },
      "source": [
        "<a href=\"https://colab.research.google.com/github/ahcamachod/2096-visualizacion-de-datos-estilizando-tablas-con-python/blob/main/Estilizacion_de_tablas.ipynb\" target=\"_parent\"><img src=\"https://colab.research.google.com/assets/colab-badge.svg\" alt=\"Open In Colab\"/></a>"
      ]
    },
    {
      "cell_type": "markdown",
      "source": [
        "# **Data Visualization: Estilizando tablas con python**"
      ],
      "metadata": {
        "id": "A_zo86I6zcux"
      }
    },
    {
      "cell_type": "markdown",
      "source": [
        "## **Extracción y preparación de los datos**"
      ],
      "metadata": {
        "id": "AXPz8H6FOyfG"
      }
    },
    {
      "cell_type": "code",
      "source": [
        "!pip install pandas==2.0.0"
      ],
      "metadata": {
        "id": "pRmInc-p_YWw"
      },
      "execution_count": null,
      "outputs": []
    },
    {
      "cell_type": "code",
      "source": [],
      "metadata": {
        "id": "Gjo8T_6p_c9E"
      },
      "execution_count": null,
      "outputs": []
    },
    {
      "cell_type": "code",
      "source": [],
      "metadata": {
        "id": "9wSXikuT_csO"
      },
      "execution_count": null,
      "outputs": []
    },
    {
      "cell_type": "code",
      "source": [],
      "metadata": {
        "id": "E65QDp7-_ciA"
      },
      "execution_count": null,
      "outputs": []
    },
    {
      "cell_type": "code",
      "execution_count": null,
      "metadata": {
        "id": "pViQUUzbOr4_"
      },
      "outputs": [],
      "source": []
    },
    {
      "cell_type": "markdown",
      "source": [
        "## Misión 1: Equipo de Ventas\n",
        "\n",
        "Necesitamos construir una visualización para indicar los **10 principales clientes por total de ventas**.\n",
        "\n",
        "Con ello, el equipo de ventas puede pensar en estrategias para mantener a estos clientes comprando en nuestra tienda."
      ],
      "metadata": {
        "id": "cJc43_SLO8T2"
      }
    },
    {
      "cell_type": "code",
      "source": [],
      "metadata": {
        "id": "3W3_bgfm_TFW"
      },
      "execution_count": null,
      "outputs": []
    },
    {
      "cell_type": "code",
      "source": [],
      "metadata": {
        "id": "BwOCrl5i_S5Z"
      },
      "execution_count": null,
      "outputs": []
    },
    {
      "cell_type": "code",
      "source": [],
      "metadata": {
        "id": "poTPbx4s_SuQ"
      },
      "execution_count": null,
      "outputs": []
    },
    {
      "cell_type": "code",
      "source": [],
      "metadata": {
        "id": "PJR6FbH5_Sjn"
      },
      "execution_count": null,
      "outputs": []
    },
    {
      "cell_type": "markdown",
      "source": [
        "# Misión 2: Equipo Comercial\n",
        "\n",
        "Necesitamos construir una visualización que permita asociar el **total de ganancias en ventas y el total de lucros por tipo de producto**.\n",
        "\n",
        "Ello permitirá que el equipo comercial pueda enfocarse en estrategias para apalancar los ingresos que se reciben con cada tipo de producto vendido en la tienda."
      ],
      "metadata": {
        "id": "UITGxJXGQRtT"
      }
    },
    {
      "cell_type": "code",
      "source": [],
      "metadata": {
        "id": "mTfFGrjM_DO3"
      },
      "execution_count": null,
      "outputs": []
    },
    {
      "cell_type": "code",
      "source": [],
      "metadata": {
        "id": "aewe5DMZ_DCy"
      },
      "execution_count": null,
      "outputs": []
    },
    {
      "cell_type": "code",
      "source": [],
      "metadata": {
        "id": "tuMMvO2O_Cy9"
      },
      "execution_count": null,
      "outputs": []
    },
    {
      "cell_type": "code",
      "source": [],
      "metadata": {
        "id": "cfgHDae4_CoX"
      },
      "execution_count": null,
      "outputs": []
    },
    {
      "cell_type": "code",
      "source": [],
      "metadata": {
        "id": "TFHcS79o_Ccf"
      },
      "execution_count": null,
      "outputs": []
    },
    {
      "cell_type": "markdown",
      "source": [
        "# Misión 3: Equipo de Logística\n",
        "\n",
        "Necesitamos construir una visualización que nos permita entender la **distribución de pedidos por región de Brasil**.\n",
        "\n",
        "Así, el equipo de logística va a saber dónde hay más oportunidad de enfocar los esfuerzos de material y mano de obra."
      ],
      "metadata": {
        "id": "ch9f7ppQVgBg"
      }
    },
    {
      "cell_type": "code",
      "source": [],
      "metadata": {
        "id": "84zD2U-U-xjQ"
      },
      "execution_count": null,
      "outputs": []
    },
    {
      "cell_type": "code",
      "source": [],
      "metadata": {
        "id": "ZVakvzwg-xUj"
      },
      "execution_count": null,
      "outputs": []
    },
    {
      "cell_type": "code",
      "source": [],
      "metadata": {
        "id": "Hje0Y3DH-xEM"
      },
      "execution_count": null,
      "outputs": []
    },
    {
      "cell_type": "code",
      "source": [],
      "metadata": {
        "id": "4wWiaLWT-w1i"
      },
      "execution_count": null,
      "outputs": []
    },
    {
      "cell_type": "code",
      "source": [],
      "metadata": {
        "id": "3BLMJww0-wk9"
      },
      "execution_count": null,
      "outputs": []
    },
    {
      "cell_type": "code",
      "source": [],
      "metadata": {
        "id": "9oUDDxlE-wWI"
      },
      "execution_count": null,
      "outputs": []
    },
    {
      "cell_type": "code",
      "source": [],
      "metadata": {
        "id": "LkBZBZTH-wIk"
      },
      "execution_count": null,
      "outputs": []
    },
    {
      "cell_type": "code",
      "source": [],
      "metadata": {
        "id": "ZfQYpTrQ-v9y"
      },
      "execution_count": null,
      "outputs": []
    },
    {
      "cell_type": "markdown",
      "source": [
        "# Misión 4: Equipo de Logística\n",
        "\n",
        "Nuevamente el equipo de logística desea replantear su estructura y organización de provisionamiento de productos e, para ello, se pensó en una visualización que permita identificar el estándar de la **cantidad de productos solicitados por mes por departamento**."
      ],
      "metadata": {
        "id": "mKHWFUA6dG3-"
      }
    },
    {
      "cell_type": "code",
      "source": [],
      "metadata": {
        "id": "saGQ7Uwi-iDs"
      },
      "execution_count": null,
      "outputs": []
    },
    {
      "cell_type": "code",
      "source": [],
      "metadata": {
        "id": "FLaIOSQp-h4B"
      },
      "execution_count": null,
      "outputs": []
    },
    {
      "cell_type": "code",
      "source": [],
      "metadata": {
        "id": "s_SHR6Q6-hnl"
      },
      "execution_count": null,
      "outputs": []
    },
    {
      "cell_type": "code",
      "source": [],
      "metadata": {
        "id": "BucP7anT-hZA"
      },
      "execution_count": null,
      "outputs": []
    },
    {
      "cell_type": "code",
      "source": [],
      "metadata": {
        "id": "EqzrCIiC-hNZ"
      },
      "execution_count": null,
      "outputs": []
    },
    {
      "cell_type": "code",
      "source": [],
      "metadata": {
        "id": "g5gSKLgT-hC7"
      },
      "execution_count": null,
      "outputs": []
    },
    {
      "cell_type": "markdown",
      "source": [
        "# Misión 5: Informe de Desempeño\n",
        "\n",
        "El informe de desempeño es un documento muy importante para la empresa. En este, todos los que trabajan en la tienda pueden entender cómo está la empresa. Debido a ello, las tablas bien construídas son esenciales para mostrar los datos de la mejor forma.\n",
        "\n",
        "Por lo tanto, necesitamos construir una visualización que permita entender la **relación entre tipos de clientes y modo de envío de productos de acuerdo con las ventas**. De esta forma, será posible destacar en el informe cuál es el modo de envío y cuáles son los que más generaron lucro en las ventas."
      ],
      "metadata": {
        "id": "XtlH8tHOdUOv"
      }
    },
    {
      "cell_type": "code",
      "source": [],
      "metadata": {
        "id": "xTqfRzcW9pb9"
      },
      "execution_count": null,
      "outputs": []
    },
    {
      "cell_type": "code",
      "source": [],
      "metadata": {
        "id": "vgUXNWJw9n3b"
      },
      "execution_count": null,
      "outputs": []
    },
    {
      "cell_type": "code",
      "source": [],
      "metadata": {
        "id": "oflYY0fg9mmX"
      },
      "execution_count": null,
      "outputs": []
    },
    {
      "cell_type": "code",
      "source": [],
      "metadata": {
        "id": "ZbjboB3M9lVv"
      },
      "execution_count": null,
      "outputs": []
    },
    {
      "cell_type": "code",
      "source": [],
      "metadata": {
        "id": "ELdAdc-B9kFL"
      },
      "execution_count": null,
      "outputs": []
    },
    {
      "cell_type": "code",
      "source": [],
      "metadata": {
        "id": "POViQY4H9iVn"
      },
      "execution_count": null,
      "outputs": []
    }
  ]
}